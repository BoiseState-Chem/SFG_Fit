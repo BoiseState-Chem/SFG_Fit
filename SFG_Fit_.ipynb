{
  "cells": [
    {
      "cell_type": "markdown",
      "metadata": {
        "id": "RrGkfBUhbZaO"
      },
      "source": [
        "# Fitting SFG Curves with Multiple Resonant Peaks\n",
        "Using the iminuit package, select a window of SFG spectra and perform a non-linear fit of nonresonant and a variable number ($N^{res}$) of resonant peaks accoring to the equation\n",
        "$$ \\mathrm{SFG}(\\omega) = \\left| A^{nonres}e^{i\\phi} + \\sum_{j=0}^{N^{res}}\\frac{A^{res}_j}{\\omega - \\omega^{res}_j+i\\Gamma_j}\\right|^2 $$\n",
        "where the parameters that we want to determine are the nonresonant amplitue ($A^{nonres}$) and phase ($\\phi$), as well as the amplitude, position, and width of each resonant peak ($A^{res}_j$, $\\omega^{res}_j$, and $\\Gamma_j$, respectively).\n",
        "\n",
        "Developers : Oliviero Andreussi, Lindsey Jenkins, Tara Sivell, Pranav Viswanathan, Jenee Cyran\n"
      ]
    },
    {
      "cell_type": "markdown",
      "metadata": {
        "id": "yP0yJJKQNktU"
      },
      "source": [
        "## Mount the Google Drive"
      ]
    },
    {
      "cell_type": "code",
      "execution_count": null,
      "metadata": {
        "id": "0AnDQJeYGWXS"
      },
      "outputs": [],
      "source": [
        "from google.colab import drive\n",
        "drive.mount('/content/drive')"
      ]
    },
    {
      "cell_type": "markdown",
      "metadata": {
        "id": "B7Oq-i8qNwz2"
      },
      "source": [
        "## Import External Modules"
      ]
    },
    {
      "cell_type": "code",
      "execution_count": null,
      "metadata": {
        "id": "NwPTreNGvkM3"
      },
      "outputs": [],
      "source": [
        "import matplotlib.pyplot as plt\n",
        "import numpy as np\n",
        "import pandas as pd\n",
        "!pip install iminuit\n",
        "from iminuit import Minuit\n",
        "from scipy.signal import find_peaks\n",
        "from scipy.interpolate import interp1d"
      ]
    },
    {
      "cell_type": "markdown",
      "metadata": {
        "id": "EWn49Cvpekjq"
      },
      "source": [
        "## Define Basic Functions for the Fitting"
      ]
    },
    {
      "cell_type": "code",
      "execution_count": null,
      "metadata": {
        "id": "ggA7aMuvJ5nF"
      },
      "outputs": [],
      "source": [
        "# Basic functions for the fitting of nonresonant and resonant peaks\n",
        "def chi_non_resonant(nr: float, phase: float) -> np.complex128 :\n",
        "  \"\"\"\n",
        "  Given the non-resonant parameters return a single complex-valued number\n",
        "  for the non-resonant process\n",
        "  \"\"\"\n",
        "  ChiNR = nr * np.exp(1j * phase)\n",
        "  return ChiNR\n",
        "\n",
        "def chi_resonant(wavenumbers: np.ndarray[np.float64], amplitude: float, pos: float, width: float) -> np.ndarray[np.complex128]:\n",
        "  \"\"\"\n",
        "  Given a range of wavenumbers and the parameters of a resonant peak return\n",
        "  the complex values of the peak for each wavenumber\n",
        "  \"\"\"\n",
        "  A = amplitude\n",
        "  delta = wavenumbers - pos\n",
        "  gamma = width / 2\n",
        "  ChiR_i = -(A * gamma / (delta**2 + gamma**2))\n",
        "  ChiR_r = A * delta / (delta**2 + gamma**2)\n",
        "  ChiR = ChiR_r + (1j * ChiR_i)\n",
        "  return ChiR"
      ]
    },
    {
      "cell_type": "code",
      "execution_count": null,
      "metadata": {
        "id": "MWZhADhh_bXK"
      },
      "outputs": [],
      "source": [
        "from typing import Callable\n",
        "def curry(data: np.ndarray, func: Callable) -> Callable :\n",
        "\n",
        "  def curriedfunc(*args):\n",
        "    return func(data, *args)\n",
        "\n",
        "  return curriedfunc\n",
        "\n",
        "def costfunction_of_sfg(sfg: np.ndarray[np.float64], *args) -> np.float64 :\n",
        "  return np.sum((sfg - calcamplitude(*args))**2)\n",
        "\n",
        "def calcamplitude_of_wavenumbers(wavenumbers: np.ndarray[np.float64], *args) -> np.ndarray[np.float64] :\n",
        "  Chi = np.zeros(wavenumbers.shape,dtype=np.complex128)\n",
        "  Chi = Chi + chi_non_resonant(args[0], args[1])\n",
        "  nres = (len(args)-2)//3\n",
        "  for i in range(nres):\n",
        "    iarg = 3*i+2\n",
        "    ChiR = chi_resonant(wavenumbers, args[iarg], args[iarg+1], args[iarg+2])\n",
        "    Chi = Chi + ChiR\n",
        "  return np.square(Chi.real) + np.square(Chi.imag)\n",
        "\n",
        "def calcimaginary_of_wavenumbers(wavenumbers: np.ndarray[np.float64], *args) -> np.ndarray[np.float64]:\n",
        "  Chi = np.zeros(wavenumbers.shape,dtype=np.complex128)\n",
        "  Chi = Chi + chi_non_resonant(args[0], args[1])\n",
        "  nres = (len(args)-2)//3\n",
        "  for i in range(nres):\n",
        "    iarg = 3*i+2\n",
        "    ChiR = chi_resonant(wavenumbers, args[iarg], args[iarg+1], args[iarg+2])\n",
        "    Chi = Chi + ChiR\n",
        "  return Chi.imag"
      ]
    },
    {
      "cell_type": "code",
      "execution_count": null,
      "metadata": {
        "id": "CkuiBpmd_xdl"
      },
      "outputs": [],
      "source": [
        "# Let's assume that we will always have a nonresonant dictionary plus a list of resonant dictionaries\n",
        "# NOTE: this function allows to have different names for the resonant peak dictionaries\n",
        "# and we can select which ones we add when we call the function\n",
        "def combine_params( nonresonant_params: dict, resonant_list: list[dict] ) -> dict :\n",
        "  # start with the nonresonant parameters\n",
        "  parameters = { 'nr_'+k: v for k,v in nonresonant_params.items() }\n",
        "  # add the resonant parameters naming them r1_ , r2_ , r3_, ...\n",
        "  nres = len(resonant_list)\n",
        "  for i, resonant_params in enumerate(resonant_list):\n",
        "    new = {'r'+str(i)+'_'+k:v for k,v in resonant_params.items() }\n",
        "    parameters = {**parameters, **new}\n",
        "  return parameters"
      ]
    },
    {
      "cell_type": "markdown",
      "metadata": {
        "id": "aO1BOBjoOAMH"
      },
      "source": [
        "## Load Data"
      ]
    },
    {
      "cell_type": "code",
      "execution_count": null,
      "metadata": {
        "id": "PkdntaEKuooq"
      },
      "outputs": [],
      "source": [
        "# @title Set path and select file { display-mode: \"form\" }\n",
        "# Data should be cleaned using MATLAB data cleaner first\n",
        "path = '/content/drive/MyDrive/Colab Notebooks/' # @param {type:\"string\"}\n",
        "filename = 'cleanIce8.csv' # @param {type:\"string\"}\n",
        "data = pd.read_csv(path+filename,names=['Wavenumbers','SFG'],skiprows=1)"
      ]
    },
    {
      "cell_type": "markdown",
      "metadata": {
        "id": "TNlgK0xJPGTH"
      },
      "source": [
        "## Plot of data"
      ]
    },
    {
      "cell_type": "code",
      "execution_count": null,
      "metadata": {
        "id": "eyNFA111HT_q"
      },
      "outputs": [],
      "source": [
        "data.plot('Wavenumbers', 'SFG')"
      ]
    },
    {
      "cell_type": "code",
      "execution_count": null,
      "metadata": {
        "id": "VpzCx_6cIYzu"
      },
      "outputs": [],
      "source": [
        "# @title Resize the window of the spectrum { display-mode: \"form\" }\n",
        "WMin = 2990 # @param {type:\"number\"}\n",
        "WMax  = 3400 # @param {type:\"number\"}\n",
        "filtered_data = data.query(f'Wavenumbers > {WMin} and Wavenumbers < {WMax}')\n",
        "# Plots the data with the new range\n",
        "filtered_data.plot('Wavenumbers','SFG')\n",
        "wavenumbers = filtered_data['Wavenumbers'].values\n",
        "sfg = filtered_data['SFG'].values\n",
        "calcamplitude = curry(wavenumbers,calcamplitude_of_wavenumbers)\n",
        "calcimaginary = curry(wavenumbers,calcimaginary_of_wavenumbers)\n",
        "costfunction = curry(sfg,costfunction_of_sfg)\n",
        "costfunction.errordef = Minuit.LEAST_SQUARES"
      ]
    },
    {
      "cell_type": "code",
      "execution_count": null,
      "metadata": {
        "id": "NExJsUI0P16b"
      },
      "outputs": [],
      "source": [
        "# @title Adjust the initial parameters to check the convergence of the fit { display-mode: \"form\" }\n",
        "nonres_amplitude = 0.011 # @param {type:\"number\"}\n",
        "nonres_phase  = 3.6# @param {type:\"number\"}\n",
        "res_amplitude = 1.5 # @param {type:\"number\"}\n",
        "res_pos = 3100 # @param {type:\"number\"}\n",
        "res_width = 100 # @param {type:\"number\"}\n",
        "\n",
        "nr = { \"amplitude\": nonres_amplitude,\n",
        "       \"phase\": nonres_phase }\n",
        "r0 = { \"amplitude\" : res_amplitude,\n",
        "       \"pos\" : res_pos,\n",
        "       \"width\" : res_width }\n",
        "resonant_list = [r0]\n",
        "parameters = combine_params( nr, resonant_list)\n",
        "\n",
        "fit = Minuit(costfunction, name=parameters.keys(), *parameters.values())\n",
        "\n",
        "# Ranges should only be positive\n",
        "if 'nr_amplitude' in parameters:\n",
        "  fit.limits[\"nr_amplitude\"] = (None, None)\n",
        "  fit.limits[\"nr_phase\"] = (None, 2*np.pi)\n",
        "for i in range((len(parameters)-2//3)):\n",
        "  if 'r'+str(i)+'_amplitude' in parameters:\n",
        "    fit.limits['r'+str(i)+'_amplitude'] = (None, None)\n",
        "    fit.limits['r'+str(i)+'_pos'] = (WMin, WMax)\n",
        "    fit.limits['r'+str(i)+'_width'] = (0, None)\n",
        "\n",
        "fit.fixed[\"nr_amplitude\"] = True\n",
        "fit.fixed[\"nr_phase\"] = True\n",
        "\n",
        "# perform the fit\n",
        "fit.migrad()\n",
        "\n",
        "# plot result of fit with optimized parameters vs. experiment\n",
        "plt.plot(filtered_data['Wavenumbers'],calcamplitude(fit.params[0].value,fit.params[1].value,fit.params[2].value,fit.params[3].value,fit.params[4].value))\n",
        "plt.plot(filtered_data['Wavenumbers'],filtered_data['SFG'])"
      ]
    },
    {
      "cell_type": "markdown",
      "metadata": {
        "id": "MbCNTr33sSZT"
      },
      "source": [
        "This step performs the actual optmization of the parameters (the results look cool, not sure what all these numbers mean...)"
      ]
    },
    {
      "cell_type": "markdown",
      "metadata": {
        "id": "F3Z-2enUsvFP"
      },
      "source": [
        "We can access the final value and associated error with the .value and .error attributes"
      ]
    },
    {
      "cell_type": "code",
      "execution_count": null,
      "metadata": {
        "id": "93Mvg5uArXnh"
      },
      "outputs": [],
      "source": [
        "print(fit.params[0].value,fit.params[1].value,fit.params[2].value,fit.params[3].value,fit.params[4].value)"
      ]
    },
    {
      "cell_type": "markdown",
      "metadata": {
        "id": "9Tk4FQmmtJsi"
      },
      "source": [
        "Now we can reuse the calcamplitude function with the optimal parameters to compare to the experimental data"
      ]
    },
    {
      "cell_type": "markdown",
      "metadata": {
        "id": "ArQg8vzK3kfl"
      },
      "source": [
        "## Combine fits for all peaks"
      ]
    },
    {
      "cell_type": "code",
      "execution_count": null,
      "metadata": {
        "id": "v4Xvss9GyagZ"
      },
      "outputs": [],
      "source": [
        "# @title Resize the window of the spectrum { display-mode: \"form\" }\n",
        "WMin = 2750 # @param {type:\"number\"}\n",
        "WMax  = 3400 # @param {type:\"number\"}\n",
        "filtered_data = data.query(f'Wavenumbers > {WMin} and Wavenumbers < {WMax}').copy()\n",
        "filtered_data.plot('Wavenumbers','SFG')\n",
        "wavenumbers = filtered_data['Wavenumbers'].values\n",
        "sfg = filtered_data['SFG'].values\n",
        "calcamplitude = curry(wavenumbers,calcamplitude_of_wavenumbers)\n",
        "calcimaginary = curry(wavenumbers,calcimaginary_of_wavenumbers)\n",
        "costfunction = curry(sfg,costfunction_of_sfg)\n",
        "costfunction.errordef = Minuit.LEAST_SQUARES"
      ]
    },
    {
      "cell_type": "code",
      "execution_count": null,
      "metadata": {
        "id": "s_epTu-jECZY"
      },
      "outputs": [],
      "source": [
        "nr = { \"amplitude\": 0.011,\n",
        "       \"phase\": 3.6 }\n",
        "r0 = { \"amplitude\" : 0.8,\n",
        "       \"pos\" : 2826,\n",
        "       \"width\" : 30 }\n",
        "r1 = { \"amplitude\" : 1,\n",
        "       \"pos\" : 2943,\n",
        "       \"width\" : 47 }\n",
        "r2 = { \"amplitude\" : 5,\n",
        "       \"pos\" : 3150,\n",
        "       \"width\" : 170 }\n",
        "r3 = { \"amplitude\" : 2,\n",
        "       \"pos\" : 3214,\n",
        "       \"width\" : 170 }\n",
        "\n",
        "\n",
        "resonant_list = [r0, r1, r2, r3]\n",
        "parameters = combine_params( nr, resonant_list)\n",
        "\n",
        "fit = Minuit(costfunction, name=parameters.keys(), *parameters.values())\n",
        "\n",
        "# Ranges should only be positive\n",
        "if 'nr_amplitude' in parameters:\n",
        "  fit.limits[\"nr_amplitude\"] = (0, None)\n",
        "  fit.limits[\"nr_phase\"] = (0, 2*np.pi)\n",
        "for i in range((len(parameters)-2//3)):\n",
        "  if 'r'+str(i)+'_amplitude' in parameters:\n",
        "    fit.limits['r'+str(i)+'_amplitude'] = (0, None)\n",
        "    fit.limits['r'+str(i)+'_pos'] = (WMin, WMax)\n",
        "    fit.limits['r'+str(i)+'_width'] = (0, None)\n",
        "\n",
        "#fit.fixed[\"nr_amplitude\"] = True\n",
        "#fit.fixed[\"nr_phase\"] = True\n",
        "\n",
        "# perform the fit\n",
        "fit.migrad()\n"
      ]
    },
    {
      "cell_type": "code",
      "execution_count": null,
      "metadata": {
        "id": "jUlN-e5A5BN4"
      },
      "outputs": [],
      "source": [
        "optimized_parameters = dict(zip(parameters.keys(),[p.value for p in fit.params]))\n",
        "optimized_parameters.values()"
      ]
    },
    {
      "cell_type": "code",
      "execution_count": null,
      "metadata": {
        "id": "gKMUS8H-5foB"
      },
      "outputs": [],
      "source": [
        "# Plot the fitted spectrum with the original\n",
        "plt.plot(filtered_data['Wavenumbers'],filtered_data['SFG'], linewidth='3.5')\n",
        "plt.plot(filtered_data['Wavenumbers'],calcamplitude(*optimized_parameters.values()), linewidth='2.5')\n",
        "plt.xticks(fontsize=15)\n",
        "plt.yticks(fontsize=15)\n",
        "plt.xlabel(r'Wavenumbers (cm$^{-1}$)', fontsize=20)\n",
        "plt.ylabel('Intensity (a.u.)', fontsize=20)\n",
        "\n",
        "# Save the plot as an SVG file, uncomment when fit is satisfactory\n",
        "#plt.savefig('cleanice8.svg', format='svg')"
      ]
    },
    {
      "cell_type": "code",
      "source": [
        "# Create a DataFrame with wavenumbers and their corresponding fitted values\n",
        "fitted_values = calcamplitude(*optimized_parameters.values())\n",
        "data_table = pd.DataFrame({\n",
        "    'Wavenumbers': filtered_data['Wavenumbers'],\n",
        "    'SFG': filtered_data['SFG'],\n",
        "    'Fitted Values': fitted_values\n",
        "})\n",
        "\n",
        "# Print the DataFrame\n",
        "print(data_table)\n",
        "\n",
        "# Save the DataFrame to a CSV file, uncomment when fit is satisfactory\n",
        "#data_table.to_csv('CleanIce8Fit.csv', index=False)"
      ],
      "metadata": {
        "id": "pQb99WGmHIr_"
      },
      "execution_count": null,
      "outputs": []
    },
    {
      "cell_type": "markdown",
      "source": [
        "## Data anaylsis tools"
      ],
      "metadata": {
        "id": "rSQwe8JdHQMc"
      }
    },
    {
      "cell_type": "code",
      "execution_count": null,
      "metadata": {
        "id": "EKuABKRh5jyF"
      },
      "outputs": [],
      "source": [
        "# If imaginary shoud be positive, change the sign of the peak amplitude\n",
        "plt.plot(filtered_data['Wavenumbers'],calcimaginary(*optimized_parameters.values()))\n",
        "plt.xticks(fontsize=15)\n",
        "plt.yticks(fontsize=15)\n",
        "plt.xlabel(r'Wavenumbers (cm$^{-1}$)', fontsize=20)\n",
        "plt.ylabel('Intensity (a.u.)', fontsize=20)"
      ]
    },
    {
      "cell_type": "markdown",
      "metadata": {
        "id": "N0IgBSXAEM76"
      },
      "source": [
        "## Two methods for finding the peak amplitudes"
      ]
    },
    {
      "cell_type": "code",
      "execution_count": null,
      "metadata": {
        "id": "2U_JoKXOEM76"
      },
      "outputs": [],
      "source": [
        "# Plot to pick out the location of the peaks by finding the largest intensity\n",
        "plt.plot(filtered_data['Wavenumbers'],filtered_data['SFG'], linewidth='3.5')\n",
        "plt.plot(filtered_data['Wavenumbers'],calcamplitude(*optimized_parameters.values()), linewidth='2.5')\n",
        "plt.xticks(fontsize=15)\n",
        "plt.yticks(fontsize=15)\n",
        "plt.xlabel(r'Wavenumbers (cm$^{-1}$)', fontsize=20)\n",
        "plt.ylabel('Intensity (a.u.)', fontsize=20)\n",
        "\n",
        "y_data1 = calcamplitude(*optimized_parameters.values())\n",
        "y_data2 = filtered_data['SFG']\n",
        "peaks_y_data1, _ = find_peaks(y_data1)\n",
        "peaks_y_data2, _ = find_peaks(y_data2)\n",
        "peaks_y_data1_x = filtered_data['Wavenumbers'].iloc[peaks_y_data1].values\n",
        "\n",
        "# Print the list of local maxima\n",
        "print(\"List of local maxima for calcamplitude:\")\n",
        "for i, peak_idx in enumerate(peaks_y_data1):\n",
        "    peak_x = peaks_y_data1_x[i]\n",
        "    peak_y = y_data1[peak_idx]\n",
        "    print(f\"x = {peak_x}, y = {peak_y}\")\n",
        "\n",
        "plt.plot(peaks_y_data1_x, y_data1[peaks_y_data1], 'ro')\n",
        "plt.show()"
      ]
    },
    {
      "cell_type": "code",
      "source": [
        "#Find the intensity of an individual peak if the wavenumber is already know from literature\n",
        "\n",
        "wavenumber_at_peak = 3180\n",
        "\n",
        "# Function to find the closest wavenumber and its corresponding intensity\n",
        "def get_intensity_at_closest_wavenumber(target_wavenumber, wavenumbers, fitted_values):\n",
        "    idx = (np.abs(wavenumbers - target_wavenumber)).argmin()\n",
        "    closest_wavenumber = wavenumbers[idx]\n",
        "    intensity = fitted_values[idx]\n",
        "    return closest_wavenumber, intensity\n",
        "\n",
        "wavenumbers_array = np.array(filtered_data['Wavenumbers'])\n",
        "fitted_values_array = np.array(fitted_values)\n",
        "closest_wavenumber, intensity_at_wavenumber = get_intensity_at_closest_wavenumber(wavenumber_at_peak, wavenumbers_array, fitted_values_array)\n",
        "print(f'The intensity at the closest wavenumber {closest_wavenumber}: {intensity_at_wavenumber}')\n",
        "\n",
        "plt.plot(filtered_data['Wavenumbers'], filtered_data['SFG'], linewidth='3.5', label='Original Data')\n",
        "plt.plot(filtered_data['Wavenumbers'], fitted_values, linewidth='2.5', label='Fitted Data')\n",
        "plt.scatter(closest_wavenumber, intensity_at_wavenumber, color='red', zorder=8)\n",
        "plt.xticks(fontsize=15)\n",
        "plt.yticks(fontsize=15)\n",
        "plt.xlabel(r'Wavenumbers (cm$^{-1}$)', fontsize=20)\n",
        "plt.ylabel('Intensity (a.u.)', fontsize=20)\n",
        "plt.show()"
      ],
      "metadata": {
        "id": "6IvG140aGRkL"
      },
      "execution_count": null,
      "outputs": []
    }
  ],
  "metadata": {
    "colab": {
      "provenance": []
    },
    "kernelspec": {
      "display_name": "Python 3",
      "name": "python3"
    },
    "language_info": {
      "codemirror_mode": {
        "name": "ipython",
        "version": 3
      },
      "file_extension": ".py",
      "mimetype": "text/x-python",
      "name": "python",
      "nbconvert_exporter": "python",
      "pygments_lexer": "ipython3",
      "version": "3.12.0"
    }
  },
  "nbformat": 4,
  "nbformat_minor": 0
}